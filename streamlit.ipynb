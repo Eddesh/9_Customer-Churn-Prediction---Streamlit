{
  "nbformat": 4,
  "nbformat_minor": 0,
  "metadata": {
    "colab": {
      "provenance": []
    },
    "kernelspec": {
      "name": "python3",
      "display_name": "Python 3"
    },
    "language_info": {
      "name": "python"
    }
  },
  "cells": [
    {
      "cell_type": "code",
      "execution_count": null,
      "metadata": {
        "colab": {
          "base_uri": "https://localhost:8080/"
        },
        "id": "JI6Mq-J3a9CT",
        "outputId": "9fe990e0-c477-4972-c9be-1bc4a54aa9cc"
      },
      "outputs": [
        {
          "output_type": "stream",
          "name": "stdout",
          "text": [
            "\u001b[2K     \u001b[90m━━━━━━━━━━━━━━━━━━━━━━━━━━━━━━━━━━━━━━━━\u001b[0m \u001b[32m8.1/8.1 MB\u001b[0m \u001b[31m14.5 MB/s\u001b[0m eta \u001b[36m0:00:00\u001b[0m\n",
            "\u001b[2K     \u001b[90m━━━━━━━━━━━━━━━━━━━━━━━━━━━━━━━━━━━━━━━━\u001b[0m \u001b[32m207.3/207.3 kB\u001b[0m \u001b[31m14.0 MB/s\u001b[0m eta \u001b[36m0:00:00\u001b[0m\n",
            "\u001b[2K     \u001b[90m━━━━━━━━━━━━━━━━━━━━━━━━━━━━━━━━━━━━━━━━\u001b[0m \u001b[32m6.9/6.9 MB\u001b[0m \u001b[31m30.4 MB/s\u001b[0m eta \u001b[36m0:00:00\u001b[0m\n",
            "\u001b[2K     \u001b[90m━━━━━━━━━━━━━━━━━━━━━━━━━━━━━━━━━━━━━━━━\u001b[0m \u001b[32m83.0/83.0 kB\u001b[0m \u001b[31m5.9 MB/s\u001b[0m eta \u001b[36m0:00:00\u001b[0m\n",
            "\u001b[2K     \u001b[90m━━━━━━━━━━━━━━━━━━━━━━━━━━━━━━━━━━━━━━━━\u001b[0m \u001b[32m62.7/62.7 kB\u001b[0m \u001b[31m5.3 MB/s\u001b[0m eta \u001b[36m0:00:00\u001b[0m\n",
            "\u001b[?25h"
          ]
        }
      ],
      "source": [
        "!pip install -q streamlit"
      ]
    },
    {
      "cell_type": "code",
      "source": [
        "%%writefile app.py\n",
        "import streamlit as st\n",
        "import pandas as pd\n",
        "from sklearn.preprocessing import StandardScaler\n",
        "import joblib\n",
        "from xgboost import XGBClassifier\n",
        "import numpy as np\n",
        "\n",
        "# Load pre-trained models and encoders\n",
        "model = joblib.load('XGB_model.pkl')\n",
        "gender_enc = joblib.load('gender_enc.pkl')\n",
        "geo_enc = joblib.load('OHE_enc.pkl')\n",
        "scaler = joblib.load('scaler.pkl')\n",
        "\n",
        "def make_prediction(features):\n",
        "    # Use the loaded model to make predictions\n",
        "    # Replace this with the actual code for your model\n",
        "    input_array = np.array(features).reshape(1, -1)\n",
        "    prediction = model.predict(input_array)\n",
        "    return prediction[0]\n",
        "\n",
        "# Main function\n",
        "def main():\n",
        "    st.title(\"Churn Prediction App\")\n",
        "\n",
        "    # Create input fields\n",
        "    creditscore = st.number_input(\"Creditscore\", min_value=0, max_value=1000, step=1)\n",
        "    geography = st.radio(\"Geography\", [\"France\", \"Spain\", \"Germany\"])\n",
        "    gender = st.radio(\"Gender\", [\"Male\", \"Female\"])\n",
        "    age = st.slider(\"Age\", min_value=0, max_value=100, step=1)\n",
        "    tenure = st.slider(\"Tenure (in years)\", min_value=0, max_value=10, step=1)\n",
        "    balance = st.number_input(\"Balance\", min_value=0, max_value=250000, step=1)\n",
        "    numofproducts = st.slider(\"Number of Products\", min_value=0, max_value=4, step=1)\n",
        "    hascrcard = st.radio(\"Has CR card\", [\"Yes\", \"No\"])\n",
        "    isactivemember = st.radio(\"Active Member\", [\"Yes\", \"No\"])\n",
        "    estimatedsalary = st.number_input(\"Estimated Salary\", min_value=0, max_value=200000, step=1)\n",
        "    hascrcard = 1 if hascrcard == 'Yes' else 0\n",
        "    isactivemember = 1 if isactivemember == 'Yes' else 0\n",
        "\n",
        "    df = pd.DataFrame({\n",
        "        'creditscore': [int(creditscore)],\n",
        "        'geography': [geography],\n",
        "        'gender': [gender],\n",
        "        'age': [int(age)],\n",
        "        'tenure': [int(tenure)],\n",
        "        'balance': [int(balance)],\n",
        "        'numofproducts': [int(numofproducts)],\n",
        "        'hascrcard': [hascrcard],\n",
        "        'isactivemember': [isactivemember],\n",
        "        'estimatedsalary': [int(estimatedsalary)]\n",
        "    })\n",
        "\n",
        "    df = df.replace(gender_enc)\n",
        "    geo_col = ['geography']\n",
        "    geo_encode = pd.DataFrame(geo_enc.transform(df[['geography']]).toarray(), columns=geo_enc.get_feature_names_out())\n",
        "    geo_encode = geo_encode.reset_index()\n",
        "    df=pd.concat([df,geo_encode], axis=1)\n",
        "    df=df.drop(['geography'],axis=1)\n",
        "    scale_col = ['creditscore', 'balance', 'estimatedsalary']\n",
        "    scaled_features = scaler.transform(df[scale_col])\n",
        "    df[scale_col] = scaled_features\n",
        "\n",
        "    if st.button('Make Prediction'):\n",
        "        features=df\n",
        "        result = make_prediction(features)\n",
        "        st.success(f'The prediction is: {result}')\n",
        "\n",
        "if __name__ == \"__main__\":\n",
        "  main()"
      ],
      "metadata": {
        "colab": {
          "base_uri": "https://localhost:8080/"
        },
        "id": "U6XrbvbvbAxd",
        "outputId": "2a56ec6f-fc1b-4314-a3ce-5be314d323fa"
      },
      "execution_count": null,
      "outputs": [
        {
          "output_type": "stream",
          "name": "stdout",
          "text": [
            "Writing app.py\n"
          ]
        }
      ]
    },
    {
      "cell_type": "code",
      "source": [
        "!npm install localtunnel\n"
      ],
      "metadata": {
        "colab": {
          "base_uri": "https://localhost:8080/"
        },
        "id": "IYXvNBSRbA0b",
        "outputId": "bd8d7512-e247-4c73-f9f2-1f4077dc75cb"
      },
      "execution_count": null,
      "outputs": [
        {
          "output_type": "stream",
          "name": "stdout",
          "text": [
            "\u001b[K\u001b[?25h\u001b[37;40mnpm\u001b[0m \u001b[0m\u001b[30;43mWARN\u001b[0m \u001b[0m\u001b[35msaveError\u001b[0m ENOENT: no such file or directory, open '/content/package.json'\n",
            "\u001b[0m\u001b[37;40mnpm\u001b[0m \u001b[0m\u001b[34;40mnotice\u001b[0m\u001b[35m\u001b[0m created a lockfile as package-lock.json. You should commit this file.\n",
            "\u001b[0m\u001b[37;40mnpm\u001b[0m \u001b[0m\u001b[30;43mWARN\u001b[0m \u001b[0m\u001b[35menoent\u001b[0m ENOENT: no such file or directory, open '/content/package.json'\n",
            "\u001b[0m\u001b[37;40mnpm\u001b[0m \u001b[0m\u001b[30;43mWARN\u001b[0m\u001b[35m\u001b[0m content No description\n",
            "\u001b[0m\u001b[37;40mnpm\u001b[0m \u001b[0m\u001b[30;43mWARN\u001b[0m\u001b[35m\u001b[0m content No repository field.\n",
            "\u001b[0m\u001b[37;40mnpm\u001b[0m \u001b[0m\u001b[30;43mWARN\u001b[0m\u001b[35m\u001b[0m content No README data\n",
            "\u001b[0m\u001b[37;40mnpm\u001b[0m \u001b[0m\u001b[30;43mWARN\u001b[0m\u001b[35m\u001b[0m content No license field.\n",
            "\u001b[0m\n",
            "+ localtunnel@2.0.2\n",
            "added 22 packages from 22 contributors in 4.047s\n",
            "\n",
            "3 packages are looking for funding\n",
            "  run `npm fund` for details\n",
            "\n",
            "found \u001b[92m0\u001b[0m vulnerabilities\n",
            "\n",
            "\u001b[K\u001b[?25h"
          ]
        }
      ]
    },
    {
      "cell_type": "code",
      "source": [
        "!streamlit run /content/app.py &>/content/logs.txt &\n"
      ],
      "metadata": {
        "id": "ri_sK8atbA3K"
      },
      "execution_count": null,
      "outputs": []
    },
    {
      "cell_type": "code",
      "source": [
        "!curl ipv4.icanhazip.com\n"
      ],
      "metadata": {
        "colab": {
          "base_uri": "https://localhost:8080/"
        },
        "id": "8VGRC4g5bA5q",
        "outputId": "5d29db17-4df6-4773-8079-328d73855c56"
      },
      "execution_count": null,
      "outputs": [
        {
          "output_type": "stream",
          "name": "stdout",
          "text": [
            "34.139.236.126\n"
          ]
        }
      ]
    },
    {
      "cell_type": "code",
      "source": [
        "!npx localtunnel --port 8501\n"
      ],
      "metadata": {
        "colab": {
          "base_uri": "https://localhost:8080/"
        },
        "id": "cg5KnBcnbA8F",
        "outputId": "8a6ccfb7-b860-4123-8c38-1f8eed8072da"
      },
      "execution_count": null,
      "outputs": [
        {
          "metadata": {
            "tags": null
          },
          "name": "stdout",
          "output_type": "stream",
          "text": [
            "\u001b[K\u001b[?25hnpx: installed 22 in 1.773s\n",
            "your url is: https://salty-rules-know.loca.lt\n"
          ]
        }
      ]
    },
    {
      "cell_type": "code",
      "source": [],
      "metadata": {
        "id": "xfIBQ5UTbA-m"
      },
      "execution_count": null,
      "outputs": []
    },
    {
      "cell_type": "code",
      "source": [],
      "metadata": {
        "id": "LB8gPljvbBA1"
      },
      "execution_count": null,
      "outputs": []
    },
    {
      "cell_type": "code",
      "source": [],
      "metadata": {
        "id": "zRln5vlPbBDP"
      },
      "execution_count": null,
      "outputs": []
    }
  ]
}